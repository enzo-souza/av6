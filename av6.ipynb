{
 "cells": [
  {
   "cell_type": "code",
   "execution_count": 8,
   "id": "bbc9cdaa",
   "metadata": {},
   "outputs": [],
   "source": [
    "import numpy as np\n",
    "import matplotlib.pyplot as plt\n",
    "from decimal import *"
   ]
  },
  {
   "cell_type": "markdown",
   "id": "3beca8a1",
   "metadata": {},
   "source": [
    "a)\n",
    "Crie uma função Python que avalie a seguinte expressão:\n",
    "\n",
    "S=(1+1×10**-16)−1\n",
    "\n",
    "Imprima o valor de S\n",
    " com `float` (precisão padrão do Python) e com `decimal.Decimal` com 50 dígitos de precisão.\n",
    "\n",
    "O que você observa? Qual foi o valor computado? O que isso revela sobre o funcionamento da aritmética de ponto flutuante?"
   ]
  },
  {
   "cell_type": "code",
   "execution_count": 13,
   "id": "b6c05d23",
   "metadata": {},
   "outputs": [
    {
     "name": "stdout",
     "output_type": "stream",
     "text": [
      "0.0\n"
     ]
    }
   ],
   "source": [
    "# Exemplo de definição de função em Python\n",
    "def m_float():\n",
    "    return float((1+1*10**(-16))-1)\n",
    "\n",
    "print(m_float())\n"
   ]
  },
  {
   "cell_type": "code",
   "execution_count": null,
   "id": "2ee15faf",
   "metadata": {},
   "outputs": [
    {
     "name": "stdout",
     "output_type": "stream",
     "text": [
      "0.00000000000000010\n"
     ]
    }
   ],
   "source": [
    "# Usando decimal.Decimal para 17 casas decimais\n",
    "from decimal import Decimal, getcontext\n",
    "getcontext().prec = 16\n",
    "\n",
    "def m_decimal():\n",
    "    s = (Decimal('1') + Decimal('1e-16')) - Decimal('1')\n",
    "    return s\n",
    "\n",
    "print(format(m_decimal(), '.17f'))"
   ]
  },
  {
   "cell_type": "code",
   "execution_count": null,
   "id": "f8bed7ee",
   "metadata": {},
   "outputs": [],
   "source": []
  }
 ],
 "metadata": {
  "kernelspec": {
   "display_name": "base",
   "language": "python",
   "name": "python3"
  },
  "language_info": {
   "codemirror_mode": {
    "name": "ipython",
    "version": 3
   },
   "file_extension": ".py",
   "mimetype": "text/x-python",
   "name": "python",
   "nbconvert_exporter": "python",
   "pygments_lexer": "ipython3",
   "version": "3.12.7"
  }
 },
 "nbformat": 4,
 "nbformat_minor": 5
}
